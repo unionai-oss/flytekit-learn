{
 "cells": [
  {
   "cell_type": "markdown",
   "id": "a75f89386fbeda94d3e4eccd0a4b76d0",
   "metadata": {},
   "source": [
    "# MNIST: Digits Classification"
   ]
  },
  {
   "cell_type": "markdown",
   "id": "6bd730481e96f527bf560252946afa83",
   "metadata": {
    "tags": [
     "add-colab-badge"
    ]
   },
   "source": [
    "[![Open In Colab](https://colab.research.google.com/assets/colab-badge.svg)](https://colab.research.google.com/github/unionai-oss/unionml/blob/main/docs/notebooks/mnist.ipynb)"
   ]
  },
  {
   "cell_type": "markdown",
   "id": "50bb5dc426b848b29f9a1f1090844c5c",
   "metadata": {},
   "source": [
    "The MNIST dataset is considered to be the \"hello world\" dataset of machine\n",
    "learning. It is a dataset of 60,000 small square 28×28 pixel grayscale images\n",
    "of handwritten single digits between 0 and 9.\n",
    "\n",
    "In that same spirit, we'll be making the \"hello world\" UnionML app using this\n",
    "dataset and a simple linear classifier with [sklearn](https://scikit-learn.org/stable/index.html).\n",
    "\n",
    "With this dataset, we'll see just how easy it is to create a single-script UnionML app.\n",
    "\n",
    "```{note}\n",
    "This tutorial is adapted from this [sklearn guide](https://scikit-learn.org/stable/auto_examples/linear_model/plot_sparse_logistic_regression_mnist.html).\n",
    "```"
   ]
  },
  {
   "cell_type": "code",
   "execution_count": null,
   "id": "1076f494dde02aee04abe186ba5be442",
   "metadata": {
    "tags": [
     "remove-cell"
    ]
   },
   "outputs": [],
   "source": [
    "%%capture\n",
    "!pip install 'gradio<=3.0.10' pandas sklearn unionml"
   ]
  },
  {
   "cell_type": "markdown",
   "id": "b4ab3e8841ab4e74a6994979ab243687",
   "metadata": {
    "tags": [
     "remove-cell"
    ]
   },
   "source": [
    "> If you're running this notebook in google colab, you need to restart the\n",
    "> kernel to make sure that the newly installed packages are correctly imported\n",
    "> in the next line below."
   ]
  },
  {
   "cell_type": "markdown",
   "id": "f60a216a0502d01dee018b7732de6234",
   "metadata": {},
   "source": [
    "## Setup and importing libraries\n",
    "\n",
    "First let's import our dependencies and create the UnionML `Dataset` and `Model` objects:"
   ]
  },
  {
   "cell_type": "code",
   "execution_count": null,
   "id": "f0550d7dae055e028bba12c377655b7f",
   "metadata": {},
   "outputs": [],
   "source": [
    "from typing import List, Union\n",
    "\n",
    "import pandas as pd\n",
    "from sklearn.datasets import fetch_openml\n",
    "from sklearn.linear_model import LogisticRegression\n",
    "from sklearn.model_selection import train_test_split\n",
    "from sklearn.pipeline import Pipeline\n",
    "from sklearn.preprocessing import StandardScaler\n",
    "from sklearn.metrics import accuracy_score\n",
    "\n",
    "from unionml import Dataset, Model\n",
    "\n",
    "dataset = Dataset(name=\"mnist_dataset\", test_size=0.2, shuffle=True, targets=[\"class\"])\n",
    "model = Model(name=\"mnist_classifier\", dataset=dataset)"
   ]
  },
  {
   "cell_type": "markdown",
   "id": "8ff99219432894cd9a5dda340d1e1b39",
   "metadata": {},
   "source": [
    "Let's break down the code cell above.\n",
    "\n",
    "We first define a {class}`~unionml.dataset.Dataset>`, which defines the specification for data that\n",
    "can be used for training and prediction. We also give it a few keyword options:\n",
    "- `test_size`: this indicated the percentage of the data that should be held\n",
    "  over for testing. In this case the dataset is divided into test-set (20%) and\n",
    "  training set (80%) for evaluation.\n",
    "- `shuffle`: this randomly shuffles the data before splitting into train/test splits.\n",
    "- `targets`: this accepts a list of strings referring to the column names of the dataset.\n",
    "\n",
    "Then we define a {class}`~unionml.model.Model>`, which refers to the specification\n",
    "for how to actually train the model, evaluate it, and generate predictions from\n",
    "it. Note that we bind the `dataset` we just defined to the `model`.\n",
    "\n",
    "## Caching Data\n",
    "\n",
    "For convenience, we cache the dataset so that MNIST loading is faster upon\n",
    "subsequent calls to the `fetch_openml` function:"
   ]
  },
  {
   "cell_type": "code",
   "execution_count": null,
   "id": "8ae4871489db9871cb19d7c08d1b486b",
   "metadata": {},
   "outputs": [],
   "source": [
    "from pathlib import Path\n",
    "from joblib import Memory\n",
    "\n",
    "memory = Memory(Path.home() / \"tmp\")\n",
    "fetch_openml_cached = memory.cache(fetch_openml)"
   ]
  },
  {
   "cell_type": "markdown",
   "id": "93a2b5553bc5acb95c7557d12f172326",
   "metadata": {},
   "source": [
    "We do this so we don't have to re-download the dataset it every time we need to\n",
    "train a model.\n",
    "\n",
    "## Define Core UnionML Functions\n",
    "\n",
    "Run the following command to define our core UnionML app functions:"
   ]
  },
  {
   "cell_type": "code",
   "execution_count": null,
   "id": "f14d6452e97542d3e1e7dc0f309f37dd",
   "metadata": {},
   "outputs": [],
   "source": [
    "@dataset.reader(cache=True, cache_version=\"1\")\n",
    "def reader() -> pd.DataFrame:\n",
    "    dataset = fetch_openml_cached(\n",
    "        \"mnist_784\",\n",
    "        version=1,\n",
    "        cache=True,\n",
    "        as_frame=True,\n",
    "    )\n",
    "    # randomly sample a subset for faster training\n",
    "    return dataset.frame.sample(1000, random_state=42)\n",
    "\n",
    "\n",
    "@model.init\n",
    "def init(hyperparameters: dict) -> Pipeline:\n",
    "    estimator = Pipeline(\n",
    "        [\n",
    "            (\"scaler\", StandardScaler()),\n",
    "            (\"classifier\", LogisticRegression()),\n",
    "        ]\n",
    "    )\n",
    "    return estimator.set_params(**hyperparameters)\n",
    "\n",
    "\n",
    "@model.trainer(cache=True, cache_version=\"1\")\n",
    "def trainer(\n",
    "    estimator: Pipeline,\n",
    "    features: pd.DataFrame,\n",
    "    target: pd.DataFrame,\n",
    ") -> Pipeline:\n",
    "    return estimator.fit(features, target.squeeze())\n",
    "\n",
    "\n",
    "@model.predictor\n",
    "def predictor(\n",
    "    estimator: Pipeline,\n",
    "    features: pd.DataFrame,\n",
    ") -> List[float]:\n",
    "    return [float(x) for x in estimator.predict(features)]\n",
    "\n",
    "\n",
    "@model.evaluator\n",
    "def evaluator(\n",
    "    estimator: Pipeline,\n",
    "    features: pd.DataFrame,\n",
    "    target: pd.DataFrame,\n",
    ") -> float:\n",
    "    return float(accuracy_score(target.squeeze(), estimator.predict(features)))"
   ]
  },
  {
   "cell_type": "markdown",
   "id": "25b60d28342dcfe96537f8b7bb11977a",
   "metadata": {},
   "source": [
    "The `Dataset` and `Model` objects expose function decorators where we define\n",
    "the behavior of our machine learning app:\n",
    "\n",
    "- {meth}`~unionml.dataset.Dataset.reader` - Register a function for getting data\n",
    "  from some external source.\n",
    "- {meth}`~unionml.model.Model.init` - Register a function for initializing a\n",
    "  model object. This is equivalent to specifying a class or callable using the\n",
    "  `init` kwarg in the `Model` constructor.\n",
    "- {meth}`~unionml.model.Model.trainer` - Register a function for training a\n",
    "  model object.\n",
    "- {meth}`~unionml.model.Model.predictor` - Register a function that generates\n",
    "  predictions from a model object.\n",
    "- {meth}`~unionml.model.Model.evaluator` - Register a function for evaluating given model object.\n",
    "\n",
    "## Training a Model Locally\n",
    "\n",
    "Then we can train our model locally:"
   ]
  },
  {
   "cell_type": "code",
   "execution_count": null,
   "id": "c1e477a01ea71f3b2d11b38518893367",
   "metadata": {},
   "outputs": [],
   "source": [
    "estimator, metrics = model.train(\n",
    "    hyperparameters={\n",
    "        \"classifier__penalty\": \"l2\",\n",
    "        \"classifier__C\": 0.1,\n",
    "        \"classifier__max_iter\": 1000,\n",
    "    }\n",
    ")\n",
    "print(estimator, metrics, sep=\"\\n\")"
   ]
  },
  {
   "cell_type": "markdown",
   "id": "7759d72e372c309faac690fe33db2928",
   "metadata": {},
   "source": [
    "Note that we pass a dictionary of `hyperparameters` when we invoke\n",
    "{meth}`evaluating <~unionml.model.Model.train>`,\n",
    "which, in this case, follows the sklearn conventions for specifying\n",
    "hyperparameters for [sklearn `Pipeline`s](https://scikit-learn.org/stable/modules/compose.html#nested-parameters)\n",
    "\n",
    "## Serving on a Gradio Widget\n",
    "\n",
    "Finally, let's create a `gradio` widget by simply using the\n",
    "{meth}`~unionml.model.Model.predict` method in the `gradio.Interface`\n",
    "object.\n",
    "\n",
    "Before we do this, however, we want to define a {meth}`~unionml.dataset.Dataset.feature_loader`\n",
    "function to handle the raw input coming from the `gradio` widget:"
   ]
  },
  {
   "cell_type": "code",
   "execution_count": null,
   "id": "dd2db9775cf4746d791db8f49d7eb48d",
   "metadata": {},
   "outputs": [],
   "source": [
    "import numpy as np\n",
    "\n",
    "@dataset.feature_loader\n",
    "def feature_loader(data: np.ndarray) -> pd.DataFrame:\n",
    "    return (\n",
    "        pd.DataFrame(data.ravel())\n",
    "        .transpose()\n",
    "        .rename(columns=lambda x: f\"pixel{x + 1}\")\n",
    "        .astype(float)\n",
    "    )"
   ]
  },
  {
   "cell_type": "markdown",
   "id": "14c9b2d756929c981cd0f157e6f1b51f",
   "metadata": {},
   "source": [
    "We also need to take care to handle the `None` case when we press the `clear`\n",
    "button on the widget using a `lambda` function:"
   ]
  },
  {
   "cell_type": "code",
   "execution_count": null,
   "id": "3b9eda693333f0352081b4c2ab2237de",
   "metadata": {
    "tags": [
     "remove-output"
    ]
   },
   "outputs": [],
   "source": [
    "import gradio as gr\n",
    "\n",
    "gr.Interface(\n",
    "    fn=lambda img: img if img is None else model.predict(img)[0],\n",
    "    inputs=\"sketchpad\",\n",
    "    outputs=\"label\",\n",
    "    live=True,\n",
    "    allow_flagging=\"never\",\n",
    ").launch()"
   ]
  },
  {
   "cell_type": "markdown",
   "id": "e5a0d6d4fef4e87e8af91825cdc4724e",
   "metadata": {},
   "source": [
    "You might notice that the model may not perform as well as you might expect...\n",
    "welcome to the world of machine learning practice! To obtain a better model\n",
    "given a fixed dataset, feel free to play around with the model hyperparameters\n",
    "or even switch up the model type/architecture that's defined in the `trainer`\n",
    "function."
   ]
  }
 ],
 "metadata": {
  "kernelspec": {
   "display_name": "Python 3 (ipykernel)",
   "language": "python",
   "name": "python3"
  }
 },
 "nbformat": 4,
 "nbformat_minor": 5
}
