{
 "cells": [
  {
   "cell_type": "markdown",
   "id": "935962075d094d1ddbd1d341855c580d",
   "metadata": {},
   "source": [
    "# QuickDraw: A Pictionary App"
   ]
  },
  {
   "cell_type": "markdown",
   "id": "edc5b5e34cf68c510b01c6556ea8d473",
   "metadata": {
    "tags": [
     "add-colab-badge"
    ]
   },
   "source": [
    "[![Open In Colab](https://colab.research.google.com/assets/colab-badge.svg)](https://colab.research.google.com/github/unionai-oss/unionml/blob/main/docs/notebooks/quickdraw.ipynb)"
   ]
  },
  {
   "cell_type": "markdown",
   "id": "063594b72ae2d93996989e2598ad64f2",
   "metadata": {},
   "source": [
    "In this example, we'll see how to create pictionary app that uses the\n",
    "[QuickDraw](https://github.com/googlecreativelab/quickdraw-dataset) dataset\n",
    "to train a convolutional neural net to predict the semantic label of a\n",
    "hand-drawn picture.\n",
    "\n",
    "We'll break this tutorial up into two parts:\n",
    "\n",
    "1. Creating plain Python classes and functions to implement the quickdraw dataset\n",
    "   and model using [`pytorch`](https://pytorch.org/) and the Hugging Face\n",
    "   [`transformers`](https://huggingface.co/docs/transformers/index) library.\n",
    "2. Using the pieces in part 1 to create a UnionML app for training a model\n",
    "   and serving predictions using a [`gradio`](https://gradio.app/) widget.\n",
    "\n",
    "## Part 1: Implementing the Quickdraw Model\n",
    "\n",
    "```{note}\n",
    "This tutorial is adapted from this [gradio guide](https://gradio.app/building_a_pictionary_app/),\n",
    "and you can find the original notebook [here](https://github.com/nateraw/quickdraw-pytorch).\n",
    "```"
   ]
  },
  {
   "cell_type": "code",
   "execution_count": null,
   "id": "f573e3da327107350dcd8ea6a7e07b2b",
   "metadata": {
    "tags": [
     "remove-cell"
    ]
   },
   "outputs": [],
   "source": [
    "%%capture\n",
    "!pip install 'gradio<=3.0.10' numpy tqdm requests torch transformers unionml"
   ]
  },
  {
   "cell_type": "markdown",
   "id": "6dd64519e2c35efcf40f9665fcbb36d9",
   "metadata": {
    "tags": [
     "remove-cell"
    ]
   },
   "source": [
    "> If you're running this notebook in google colab, you need to restart the kernel to\n",
    "> make sure that the newly installed packages are correctly imported in the next line below."
   ]
  },
  {
   "cell_type": "markdown",
   "id": "f539373fe8b313a6211d73039198df49",
   "metadata": {},
   "source": [
    "First let's import everything we need:"
   ]
  },
  {
   "cell_type": "code",
   "execution_count": null,
   "id": "217f7ed8fa38aa737385a10cd867f12d",
   "metadata": {},
   "outputs": [],
   "source": [
    "import math\n",
    "from typing import List, Optional\n",
    "\n",
    "import urllib.request\n",
    "from tqdm.auto import tqdm\n",
    "from pathlib import Path\n",
    "import requests\n",
    "import torch\n",
    "import numpy as np"
   ]
  },
  {
   "cell_type": "markdown",
   "id": "fdac579930d5f76fd7da844dd2e04911",
   "metadata": {},
   "source": [
    "Then let's implement some helper functions for downloading the quickdraw data and loading it\n",
    "into memory:"
   ]
  },
  {
   "cell_type": "code",
   "execution_count": null,
   "id": "892190a58e62ed19d430396a187c3695",
   "metadata": {},
   "outputs": [],
   "source": [
    "CLASSES_URL = \"https://raw.githubusercontent.com/googlecreativelab/quickdraw-dataset/master/categories.txt\"\n",
    "DATASET_URL = \"https://storage.googleapis.com/quickdraw_dataset/full/numpy_bitmap/\"\n",
    "\n",
    "\n",
    "def get_quickdraw_class_names():\n",
    "    \"\"\"Get the class names associated with the quickdraw dataset.\"\"\"\n",
    "    return [*sorted(x.replace(' ', '_') for x in requests.get(CLASSES_URL).text.splitlines())]\n",
    "\n",
    "\n",
    "def download_quickdraw_dataset(\n",
    "    root: str = \"./data\",\n",
    "    limit: Optional[int] = None,\n",
    "    class_names: List[str]=None,\n",
    "):\n",
    "    \"\"\"Download quickdraw data to a directory containing files for each class label.\"\"\"\n",
    "    class_names = class_names or get_quickdraw_class_names()\n",
    "    root = Path(root)\n",
    "    root.mkdir(exist_ok=True, parents=True)\n",
    "    print(\"Downloading Quickdraw Dataset...\")\n",
    "    for class_name in tqdm(class_names[:limit]):\n",
    "        urllib.request.urlretrieve(\n",
    "            f\"{DATASET_URL}{class_name.replace('_', '%20')}.npy\",\n",
    "            root / f\"{class_name}.npy\"\n",
    "        )\n",
    "\n",
    "\n",
    "def load_quickdraw_data(root: str = \"./data\", max_items_per_class: int = 5000):\n",
    "    \"\"\"Load quickdraw data in to memory, returning features, labels, and class names.\"\"\"\n",
    "    x = np.empty([0, 784], dtype=np.uint8)\n",
    "    y = np.empty([0], dtype=np.long)\n",
    "    class_names = []\n",
    "    print(f\"Loading {max_items_per_class} examples for each class from the Quickdraw Dataset...\")\n",
    "    for idx, file in enumerate(tqdm(sorted(Path(root).glob('*.npy')))):\n",
    "        data = np.load(file, mmap_mode='r')[0: max_items_per_class, :]\n",
    "        x = np.concatenate((x, data), axis=0)\n",
    "        y = np.append(y, np.full(data.shape[0], idx))\n",
    "        class_names.append(file.stem)\n",
    "    return x, y, class_names"
   ]
  },
  {
   "cell_type": "markdown",
   "id": "927b4ce9976819a44d56bc2275f2ad29",
   "metadata": {},
   "source": [
    "### QuickDraw Dataset\n",
    "\n",
    "Next we implement the `QuickDrawDataset` using `torch.utils.data.Dataset`:"
   ]
  },
  {
   "cell_type": "code",
   "execution_count": null,
   "id": "1a627b3cb73fe38c75979b262b9efa35",
   "metadata": {},
   "outputs": [],
   "source": [
    "class QuickDrawDataset(torch.utils.data.Dataset):\n",
    "    def __init__(self, root, max_items_per_class=5000, class_limit=None):\n",
    "        super().__init__()\n",
    "        download_quickdraw_dataset(root, class_limit)\n",
    "        self.X, self.Y, self.classes = load_quickdraw_data(root, max_items_per_class)\n",
    "\n",
    "    def __getitem__(self, idx):\n",
    "        x = (self.X[idx] / 255.).astype(np.float32).reshape(1, 28, 28)\n",
    "        y = self.Y[idx]\n",
    "        return torch.from_numpy(x), y.item()\n",
    "\n",
    "    def __len__(self):\n",
    "        return len(self.X)\n",
    "\n",
    "    @staticmethod\n",
    "    def collate_fn(batch):\n",
    "        return {\n",
    "            'pixel_values': torch.stack([item[0] for item in batch]),\n",
    "            'labels': torch.LongTensor([item[1] for item in batch]),\n",
    "        }\n",
    "\n",
    "    def split(self, pct=0.1):\n",
    "        indices = torch.randperm(len(self)).tolist()\n",
    "        n_val = math.floor(len(indices) * pct)\n",
    "        train_ds = torch.utils.data.Subset(self, indices[:-n_val])\n",
    "        val_ds = torch.utils.data.Subset(self, indices[-n_val:])\n",
    "        return train_ds, val_ds"
   ]
  },
  {
   "cell_type": "markdown",
   "id": "8e878297d7b3050f4b3cfa7ff60536cc",
   "metadata": {},
   "source": [
    "As you'll see later, this class is important so that the `transformers` library can\n",
    "handle the automatic batching of data during training.\n",
    "\n",
    "### QuickDraw Model and Trainer\n",
    "\n",
    "Now let's define the model architecture for our ConvNet:"
   ]
  },
  {
   "cell_type": "code",
   "execution_count": null,
   "id": "148e76cf126c21d108613a044283e431",
   "metadata": {},
   "outputs": [],
   "source": [
    "from torch import nn\n",
    "\n",
    "def init_model(num_classes: int) -> nn.Module:\n",
    "    return nn.Sequential(\n",
    "        nn.Conv2d(1, 64, 3, padding='same'),\n",
    "        nn.ReLU(),\n",
    "        nn.MaxPool2d(2),\n",
    "        nn.Conv2d(64, 128, 3, padding='same'),\n",
    "        nn.ReLU(),\n",
    "        nn.MaxPool2d(2),\n",
    "        nn.Conv2d(128, 256, 3, padding='same'),\n",
    "        nn.ReLU(),\n",
    "        nn.MaxPool2d(2),\n",
    "        nn.Flatten(),\n",
    "        nn.Linear(2304, 512),\n",
    "        nn.ReLU(),\n",
    "        nn.Linear(512, num_classes),\n",
    "    )"
   ]
  },
  {
   "cell_type": "markdown",
   "id": "a02247d55c8b4fcbf94951181547c52a",
   "metadata": {},
   "source": [
    "As you can see it's a fairly straightforward 2D ConvNet architecture that uses a square\n",
    "kernel size of 3, Relu layers for its non-linear activation operator, and max-pooling.\n",
    "\n",
    "Next, let's create a subclass of `transformers.Trainer` to implement a custom loss function:"
   ]
  },
  {
   "cell_type": "code",
   "execution_count": null,
   "id": "db86070ebaeefb709392e742e8290718",
   "metadata": {},
   "outputs": [],
   "source": [
    "from transformers import EvalPrediction, Trainer, TrainingArguments\n",
    "from transformers.modeling_utils import ModelOutput\n",
    "\n",
    "\n",
    "class QuickDrawTrainer(Trainer):\n",
    "\n",
    "    def compute_loss(self, model, inputs, return_outputs=False):\n",
    "        logits, labels = model(inputs[\"pixel_values\"]), inputs.get(\"labels\")\n",
    "        loss = None\n",
    "        if labels is not None:\n",
    "            loss = torch.nn.CrossEntropyLoss()(logits, labels)\n",
    "        return (loss, ModelOutput(logits=logits, loss=loss)) if return_outputs else loss"
   ]
  },
  {
   "cell_type": "markdown",
   "id": "9acbbfb188257cffa7a62a76c2339ab7",
   "metadata": {},
   "source": [
    "Then, let's define helper functions to compute the accuracy metric, which will be how we'll\n",
    "judge the performance of our model:"
   ]
  },
  {
   "cell_type": "code",
   "execution_count": null,
   "id": "b6168f3b7d19b0d077d450cd033bae9e",
   "metadata": {},
   "outputs": [],
   "source": [
    "# Adapted from: https://github.com/rwightman/pytorch-image-models/blob/master/timm/utils/metrics.py\n",
    "def accuracy(output, target, topk=(1,)):\n",
    "    \"\"\"Computes the accuracy over the k top predictions for the specified values of k.\"\"\"\n",
    "    maxk = min(max(topk), output.size()[1])\n",
    "    batch_size = target.size(0)\n",
    "    _, pred = output.topk(maxk, 1, True, True)\n",
    "    pred = pred.t()\n",
    "    correct = pred.eq(target.reshape(1, -1).expand_as(pred))\n",
    "    return [correct[:min(k, maxk)].reshape(-1).float().sum(0) * 100. / batch_size for k in topk]\n",
    "\n",
    "def quickdraw_compute_metrics(p: EvalPrediction):\n",
    "    if p.label_ids is None:\n",
    "        return {}\n",
    "    acc1, acc5 = accuracy(p.predictions, p.label_ids, topk=(1, 5))\n",
    "    return {'acc1': acc1, 'acc5': acc5}"
   ]
  },
  {
   "cell_type": "markdown",
   "id": "797402352bd6fca91e201278553cd7bc",
   "metadata": {},
   "source": [
    "Finally, let's create a `train_quickdraw` function that will serve as the main entrypoint\n",
    "for training:"
   ]
  },
  {
   "cell_type": "code",
   "execution_count": null,
   "id": "af3e3f9aa82f06471b50e689220484dd",
   "metadata": {},
   "outputs": [],
   "source": [
    "from datetime import datetime\n",
    "\n",
    "def train_quickdraw(module: nn.Module, dataset: QuickDrawDataset, num_epochs: int, batch_size: int):\n",
    "    timestamp = datetime.now().strftime('%Y-%m-%d-%H%M%S')\n",
    "    training_args = TrainingArguments(\n",
    "        output_dir=f'~/.tmp/outputs_20k_{timestamp}',\n",
    "        save_strategy='epoch',\n",
    "        report_to=['tensorboard'],\n",
    "        logging_strategy='steps',\n",
    "        logging_steps=100,\n",
    "        per_device_train_batch_size=batch_size,\n",
    "        per_device_eval_batch_size=batch_size,\n",
    "        learning_rate=0.003,\n",
    "        fp16=torch.cuda.is_available(),\n",
    "        dataloader_drop_last=True,\n",
    "        num_train_epochs=num_epochs,\n",
    "        warmup_steps=10000,\n",
    "        save_total_limit=5,\n",
    "    )\n",
    "\n",
    "    print(f\"Training on device: {training_args.device}\")\n",
    "\n",
    "    quickdraw_trainer = QuickDrawTrainer(\n",
    "        module,\n",
    "        training_args,\n",
    "        data_collator=dataset.collate_fn,\n",
    "        train_dataset=dataset,\n",
    "        tokenizer=None,\n",
    "        compute_metrics=quickdraw_compute_metrics,\n",
    "    )\n",
    "    train_results = quickdraw_trainer.train()\n",
    "    quickdraw_trainer.save_model()\n",
    "    quickdraw_trainer.log_metrics(\"train\", train_results.metrics)\n",
    "    quickdraw_trainer.save_metrics(\"train\", train_results.metrics)\n",
    "    quickdraw_trainer.save_state()\n",
    "    return module"
   ]
  },
  {
   "cell_type": "markdown",
   "id": "8fdc1ffa7cf77b633364f1e72a1f9598",
   "metadata": {},
   "source": [
    "Why did we go through all of this trouble of implementing the dataset and model classes/functions\n",
    "instead of embedding it inside our UnionML app?\n",
    "\n",
    "Well, it often makes sense to separate the concerns of the dataset/model implementation from the\n",
    "application code that will scale or serve it, especially for more complex projects. Depending on the\n",
    "the complexity of the data processing and modeling logic needed to train your model, you may want to\n",
    "create separate functions/classes/modules to abstract it away.\n",
    "\n",
    "In the next section, we'll see that this pays dividends in terms of readability and maintainability.\n",
    "\n",
    "## Part 2: Creating a UnionML Pictionary App\n",
    "\n",
    "Now that we have all the pieces we need to train our model, let's create the UnionML app. First we\n",
    "import what we need and define our `unionml.Dataset` and `unionml.Model` objects:"
   ]
  },
  {
   "cell_type": "code",
   "execution_count": null,
   "id": "f4bd2195d8418fd4da3ea8a563cc3d9f",
   "metadata": {},
   "outputs": [],
   "source": [
    "from typing import Union\n",
    "\n",
    "import numpy as np\n",
    "import torch\n",
    "import torch.nn as nn\n",
    "\n",
    "from transformers import EvalPrediction\n",
    "from unionml import Dataset, Model\n",
    "\n",
    "dataset = Dataset(name=\"quickdraw_dataset\", test_size=0.2, shuffle=True)\n",
    "model = Model(name=\"quickdraw_classifier\", init=init_model, dataset=dataset)"
   ]
  },
  {
   "cell_type": "markdown",
   "id": "50e4b68f147b8c5dd9994dc46f4361d4",
   "metadata": {},
   "source": [
    "### Reading the Dataset\n",
    "\n",
    "Then, we implement the `reader` function, which returns a `QuickDrawDataset`:"
   ]
  },
  {
   "cell_type": "code",
   "execution_count": null,
   "id": "9536831ce87767dbe156c7ea7ac1135d",
   "metadata": {},
   "outputs": [],
   "source": [
    "@dataset.reader(cache=True, cache_version=\"1\")\n",
    "def reader(\n",
    "    data_dir: str, max_examples_per_class: int = 1000, class_limit: int = 5\n",
    ") -> QuickDrawDataset:\n",
    "    return QuickDrawDataset(data_dir, max_examples_per_class, class_limit=class_limit)"
   ]
  },
  {
   "cell_type": "markdown",
   "id": "33037f86b98d4a3208ab43916b56fade",
   "metadata": {},
   "source": [
    "### Training\n",
    "\n",
    "Next, we define the `trainer` function, using the `quickdraw_trainer` helper function we\n",
    "defined above and an `evaluator` function to let UnionML know how to evaluate the model\n",
    "on some partition of the data:"
   ]
  },
  {
   "cell_type": "code",
   "execution_count": null,
   "id": "b38f3e568d704f9930ab0e6cecc737c4",
   "metadata": {},
   "outputs": [],
   "source": [
    "@model.trainer(cache=True, cache_version=\"1\")\n",
    "def trainer(\n",
    "    module: nn.Module,\n",
    "    dataset: QuickDrawDataset,\n",
    "    *,\n",
    "    num_epochs: int = 20,\n",
    "    batch_size: int = 256,\n",
    ") -> nn.Module:\n",
    "    return train_quickdraw(module, dataset, num_epochs, batch_size)\n",
    "\n",
    "@model.evaluator\n",
    "def evaluator(module: nn.Module, dataset: QuickDrawDataset) -> float:\n",
    "    cuda = torch.cuda.is_available()\n",
    "    module = module.cuda() if cuda else module\n",
    "    acc = []\n",
    "    for features, label_ids in torch.utils.data.DataLoader(dataset, batch_size=256):\n",
    "        features = features.to(\"cuda\") if cuda else features\n",
    "        label_ids = label_ids.to(\"cuda\") if cuda else label_ids\n",
    "        metrics = quickdraw_compute_metrics(EvalPrediction(module(features), label_ids))\n",
    "        acc.append(metrics[\"acc1\"])\n",
    "    module.cpu()\n",
    "    return float(sum(acc) / len(acc))"
   ]
  },
  {
   "cell_type": "markdown",
   "id": "019574de385aa31fc5b93549358ae297",
   "metadata": {},
   "source": [
    "### Prediction\n",
    "\n",
    "Because we expect to generate predictions from raw images in the form of a numpy array,\n",
    "we need to register a `feature_loader` function in the `dataset` object:"
   ]
  },
  {
   "cell_type": "code",
   "execution_count": null,
   "id": "2c3059c4b4f93141244e2eb1024cacdf",
   "metadata": {},
   "outputs": [],
   "source": [
    "@dataset.feature_loader\n",
    "def feature_loader(data: np.ndarray) -> torch.Tensor:\n",
    "    return torch.tensor(data, dtype=torch.float32).unsqueeze(0).unsqueeze(0) / 255.0"
   ]
  },
  {
   "cell_type": "markdown",
   "id": "8a18a4d14681270b45ef6886b67b3096",
   "metadata": {},
   "source": [
    "Then we can define a `predictor` function that consumes the output of `feature_loader`:"
   ]
  },
  {
   "cell_type": "code",
   "execution_count": null,
   "id": "b3179064e7e1b5558bd7d8b719d62483",
   "metadata": {},
   "outputs": [],
   "source": [
    "@model.predictor(cache=True, cache_version=\"1\")\n",
    "def predictor(module: nn.Module, features: torch.Tensor) -> dict:\n",
    "    module.eval()\n",
    "    if torch.cuda.is_available():\n",
    "        module, features = module.cuda(), features.cuda()\n",
    "    with torch.no_grad():\n",
    "        probabilities = nn.functional.softmax(module(features)[0], dim=0)\n",
    "    class_names = get_quickdraw_class_names()\n",
    "    values, indices = torch.topk(probabilities, 3)\n",
    "    return {class_names[i]: v.item() for i, v in zip(indices, values)}"
   ]
  },
  {
   "cell_type": "markdown",
   "id": "d763487280f41e7f323075aa5dcaeb1e",
   "metadata": {},
   "source": [
    "### Training a Model Locally\n",
    "\n",
    "Awesome! If you've been following along in your editor or a Jupyter notebook, you just implemented\n",
    "a pictionary app in UnionML ⭐️\n",
    "\n",
    "Now let's train a model just using 10 classes, with 500 examples per class, for 1 epoch. This\n",
    "model won't perform that well, so feel free to change these numbers up in the code below:"
   ]
  },
  {
   "cell_type": "code",
   "execution_count": null,
   "id": "600fdcf54b0719e07891bc1b570b5279",
   "metadata": {},
   "outputs": [],
   "source": [
    "num_classes = 10  # max number of classes is 345\n",
    "max_examples_per_class = 500\n",
    "num_epochs = 1\n",
    "batch_size = 256\n",
    "\n",
    "model.train(\n",
    "    hyperparameters={\"num_classes\": num_classes},\n",
    "    trainer_kwargs={\"num_epochs\": num_epochs, \"batch_size\": batch_size},\n",
    "    data_dir=\"/tmp/quickdraw_data\",\n",
    "    max_examples_per_class=max_examples_per_class,\n",
    "    class_limit=num_classes,\n",
    ")"
   ]
  },
  {
   "cell_type": "markdown",
   "id": "54d1878ef7fe7fed210ac55bd0844777",
   "metadata": {},
   "source": [
    "### Serving on a Gradio Widget\n",
    "\n",
    "And now the moment of truth 🙌\n",
    "\n",
    "To create a `gradio` widget, we can simply use the `model.predict` method into the\n",
    "`gradio.Interface` object using a `lambda` function to handle the `None` case when we press\n",
    "the `clear` button on the widget:"
   ]
  },
  {
   "cell_type": "code",
   "execution_count": null,
   "id": "5f59e4c1fb471fab76adc0b18b64477f",
   "metadata": {
    "tags": [
     "remove-output"
    ]
   },
   "outputs": [],
   "source": [
    "import gradio as gr\n",
    "\n",
    "gr.Interface(\n",
    "    fn=lambda img: img if img is None else model.predict(img),\n",
    "    inputs=\"sketchpad\",\n",
    "    outputs=\"label\",\n",
    "    live=True,\n",
    "    allow_flagging=\"never\",\n",
    ").launch()"
   ]
  },
  {
   "cell_type": "markdown",
   "id": "9ce199e64c302b23e9399d563bf09aa6",
   "metadata": {},
   "source": [
    "You might notice that the model may not perform as well as you might expect...\n",
    "welcome to the world of machine learning practice! To obtain a better model given\n",
    "a fixed dataset, feel free to play around with the model hyperparameters or even\n",
    "switch up the model type/architecture that's defined in the `trainer` function."
   ]
  }
 ],
 "metadata": {
  "kernelspec": {
   "display_name": "Python 3 (ipykernel)",
   "language": "python",
   "name": "python3"
  }
 },
 "nbformat": 4,
 "nbformat_minor": 5
}
